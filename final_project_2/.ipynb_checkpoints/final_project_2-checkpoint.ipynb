{
 "cells": [
  {
   "cell_type": "markdown",
   "id": "02068201",
   "metadata": {},
   "source": [
    "# Popular Data Science Questions\n",
    "\n",
    "#### Our goal in this project is to use [Data Science Stack Exchange](https://datascience.stackexchange.com/) to determine what content should a data science education company create, based on interest by subject."
   ]
  },
  {
   "cell_type": "markdown",
   "id": "366b8928",
   "metadata": {},
   "source": [
    "## 1. Stack Exchange"
   ]
  },
  {
   "cell_type": "markdown",
   "id": "aec700d4",
   "metadata": {},
   "source": [
    "### a. What is Stack Exchange ?\n",
    "\n",
    "Stack Exchange is a network of community-driven question-and-answer websites covering a wide range of topics. It was created in 2008 by Joel Spolsky and Jeff Atwood with the goal of providing a platform for people to share knowledge and help others solve problems.\n",
    "\n",
    "The Stack Exchange network is made up of individual websites, each dedicated to a particular topic or field. Some of the most popular sites include Stack Overflow, which focuses on programming and software development; Super User, which covers computer hardware and software; and Mathematics Stack Exchange, which is devoted to mathematics.\n",
    "\n",
    "Users can ask and answer questions, vote on the quality of questions and answers, and earn reputation points for their contributions. The community is moderated by a team of volunteers who help keep the content accurate, useful, and free from spam and abuse. The Stack Exchange network has become a valuable resource for people seeking answers to technical or specialized questions, and has a reputation for providing high-quality, reliable information."
   ]
  },
  {
   "cell_type": "markdown",
   "id": "159a696d",
   "metadata": {},
   "source": [
    "### b. How does Stack Exchange help us ?\n",
    "\n",
    "- Provides a platform for sharing knowledge.\n",
    "- Helps solve problems.\n",
    "- Provides high-quality, reliable information.\n",
    "- Builds reputation and expertise."
   ]
  },
  {
   "cell_type": "markdown",
   "id": "e513dc77",
   "metadata": {},
   "source": [
    "## 2. Stack Exchange Home Page Explorer\n",
    "\n",
    "On the [home page](https://datascience.stackexchange.com/) we can see that we have four sections:\n",
    "\n",
    "- [Questions](https://datascience.stackexchange.com/questions) - a list of all questions asked;"
   ]
  }
 ],
 "metadata": {
  "kernelspec": {
   "display_name": "Python 3 (ipykernel)",
   "language": "python",
   "name": "python3"
  },
  "language_info": {
   "codemirror_mode": {
    "name": "ipython",
    "version": 3
   },
   "file_extension": ".py",
   "mimetype": "text/x-python",
   "name": "python",
   "nbconvert_exporter": "python",
   "pygments_lexer": "ipython3",
   "version": "3.10.9"
  }
 },
 "nbformat": 4,
 "nbformat_minor": 5
}
