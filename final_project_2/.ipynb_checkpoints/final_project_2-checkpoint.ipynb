{
 "cells": [
  {
   "cell_type": "markdown",
   "id": "02068201",
   "metadata": {},
   "source": [
    "# Popular Data Science Questions\n",
    "\n",
    "#### Our goal in this project is to use [Data Science Stack Exchange](https://datascience.stackexchange.com/) to determine what content should a data science education company create, based on interest by subject."
   ]
  },
  {
   "cell_type": "markdown",
   "id": "366b8928",
   "metadata": {},
   "source": [
    "## 1. Stack Exchange\n",
    "\n",
    "### a. What is Stack Exchange ?\n",
    "\n",
    "![Stack Exchange](./Images/se_logo.png)\n",
    "\n",
    "Stack Exchange is a network of community-driven question-and-answer websites covering a wide range of topics. It was created in 2008 by Joel Spolsky and Jeff Atwood with the goal of providing a platform for people to share knowledge and help others solve problems.\n",
    "\n",
    "The Stack Exchange network is made up of individual websites, each dedicated to a particular topic or field. Some of the most popular sites include Stack Overflow, which focuses on programming and software development; Super User, which covers computer hardware and software; and Mathematics Stack Exchange, which is devoted to mathematics.\n",
    "\n",
    "Users can ask and answer questions, vote on the quality of questions and answers, and earn reputation points for their contributions. The community is moderated by a team of volunteers who help keep the content accurate, useful, and free from spam and abuse. The Stack Exchange network has become a valuable resource for people seeking answers to technical or specialized questions, and has a reputation for providing high-quality, reliable information.\n",
    "\n",
    "### b. How does Stack Exchange help us ?\n",
    "\n",
    "- Provides a platform for sharing knowledge.\n",
    "- Helps solve problems.\n",
    "- Provides high-quality, reliable information.\n",
    "- Builds reputation and expertise."
   ]
  },
  {
   "cell_type": "markdown",
   "id": "aec700d4",
   "metadata": {},
   "source": [
    "## 2. Data Science Stack Exchange\n",
    "\n",
    "### a. What is Data Science Stack Exchange ?\n",
    "\n",
    "Data Science Stack Exchange is one of the many websites in the Stack Exchange network, and provides a platform for people to ask and answer questions related to `data science`, `statistics`, `data analysis`, and `machine learning`.\n",
    "\n",
    "![dsse_logo](./Images/dsse_logo.png)"
   ]
  },
  {
   "cell_type": "markdown",
   "id": "e513dc77",
   "metadata": {},
   "source": [
    "## 3. Data Science Stack Exchange Home Page Explorer\n",
    "\n",
    "On the [home page](https://datascience.stackexchange.com/) we can see that we have four sections:\n",
    "\n",
    "- [Questions](https://datascience.stackexchange.com/questions) - a list of all questions asked;\n",
    "\n",
    "![Questions](./Images/dsse_questions.png)\n",
    "\n",
    "- [Tags](https://datascience.stackexchange.com/tags) — a list of tags (keywords or labels that categorize questions);\n",
    "\n",
    "![Tags](./Images/dsse_tags.png)\n",
    "\n",
    "- [Users](https://datascience.stackexchange.com/users) — a list of users;\n",
    "\n",
    "![Users](./Images/dsse_users.png)\n",
    "\n",
    "- [Unanswered](https://datascience.stackexchange.com/unanswered) — a list of unanswered questions;\n",
    "\n",
    "![Unanswered](./Images/dsse_unanswered.png)"
   ]
  },
  {
   "cell_type": "markdown",
   "id": "8dd598a7",
   "metadata": {},
   "source": [
    "## 4. Data Science Stack Exchange Posts Explorer\n",
    "\n",
    "in each Post, there is ONE question and possible answer.\n",
    "\n",
    "Sample Question      |  Sample Answer\n",
    ":-------------------------:|:-------------------------:\n",
    "![Sample Question](./Images/dsse_sample_question.png)  |  ![](./Images/dsse_sample_answer.png)\n",
    "\n",
    "Looking at this example, some of the information we see is:\n",
    "\n",
    "- For both questions and answers:\n",
    "    - The posts's score;\n",
    "    - The posts's title;\n",
    "    - The posts's author;\n",
    "    - The posts's body;\n",
    "- For questions only:\n",
    "    - How many users have it on their \"\n",
    "    - The last time the question as active;\n",
    "    - How many times the question was viewed;\n",
    "    - Related questions;\n",
    "    - The question's tags;"
   ]
  },
  {
   "cell_type": "markdown",
   "id": "fbfa370d",
   "metadata": {},
   "source": [
    "---"
   ]
  },
  {
   "cell_type": "markdown",
   "id": "d269a61d",
   "metadata": {},
   "source": [
    "## Data Science Stack Exchange Data Explorer\n",
    "\n",
    "### 1. Getting the Data\n",
    "\n",
    "Stack Exchange provides a public data base for each of its websites. [Here](https://data.stackexchange.com/datascience/query/new)'s a link to query and explore Data Science Stack Exchange's database.\n",
    "\n",
    "To get the relevant data we run the following query.\n",
    "\n",
    "```sql\n",
    "SELECT Id, CreationDate,\n",
    "       Score, ViewCount, Tags,\n",
    "       AnswerCount, FavoriteCount\n",
    "  FROM posts\n",
    " WHERE PostTypeId = 1\n",
    "```\n",
    "\n",
    "Here's what the first few rows look like:\n",
    "\n",
    "|   Id  \t|   CreationDate   \t| Score \t| ViewCount \t|                             Tags                             \t| AnswerCount \t| FavoriteCount \t|\n",
    "|:-----:\t|:----------------:\t|:-----:\t|:---------:\t|:------------------------------------------------------------\t|:-----------:\t|:-------------:\t|\n",
    "| 87185 \t| 26/12/2020 23:43 \t|   0   \t|    105    \t| `<logistic-regression><numpy>`                                 \t|      2      \t|               \t|               \t\n",
    "| 87186 \t| 27/12/2020 01:41 \t|   0   \t|    3160   \t| `<python><deep-learning><nlp><pytorch><bert>`                  \t|      3      \t|               \t|               \t\n",
    "| 87187 \t| 27/12/2020 02:29 \t|   0   \t|     64    \t| `<machine-learning><neural-network><learning-rate>`            \t|      1      \t|               \t|               \t\n",
    "| 87188 \t| 27/12/2020 03:29 \t|   1   \t|     96    \t| `<machine-learning><deep-learning><nlp><transformer><chatbot>` \t|      2      \t|               \t|               \t\n",
    "| 87189 \t| 27/12/2020 03:50 \t|   1   \t|     16    \t| `<nlp><text-classification><.net>`                             \t|      0      \t|               \t|               \t\n",
    "| 87190 \t| 27/12/2020 03:50 \t|   0   \t|     43    \t| `<tensorflow><game>`                                           \t|      1      \t|               \t|               \t\n",
    "| 87193 \t| 27/12/2020 05:44 \t|   1   \t|    390    \t| `<scikit-learn><correlation><pca><variance><matrix>`           \t|      1      \t|               \t|               \t\n",
    "| 87194 \t| 27/12/2020 06:42 \t|   0   \t|     90    \t| `<python><keras><scikit-learn><feature-scaling>`               \t|      2      \t|               \t|               \t\n",
    "| 87195 \t| 27/12/2020 08:38 \t|   5   \t|    343    \t| `<classification><clustering><difference>`                     \t|      3      \t|               \t|               \t\n",
    "| 87198 \t| 27/12/2020 09:36 \t|   2   \t|    364    \t| `<clustering><python-3.x><topic-model>`                        \t|      1      \t|               \t|               \t\n",
    "| 87202 \t| 27/12/2020 12:51 \t|   0   \t|    227    \t| `<python><pandas>`                                             \t|      1      \t|               \t|               \t"
   ]
  },
  {
   "cell_type": "markdown",
   "id": "6b70d3e0",
   "metadata": {},
   "source": [
    "### 2. Exploring the Data"
   ]
  },
  {
   "cell_type": "code",
   "execution_count": 3,
   "id": "6b7c7bf3",
   "metadata": {},
   "outputs": [],
   "source": [
    "# We import everything that we'll use\n",
    "\n",
    "import pandas as pd\n",
    "import matplotlib.pyplot as plt\n",
    "import seaborn as sns\n",
    "\n",
    "%matplotlib inline"
   ]
  },
  {
   "cell_type": "code",
   "execution_count": 2,
   "id": "04104a22",
   "metadata": {},
   "outputs": [],
   "source": [
    "questions = pd.read_csv(\"all_questions.csv\", parse_dates=[\"CreationDate\"])"
   ]
  },
  {
   "cell_type": "markdown",
   "id": "9546aa70",
   "metadata": {},
   "source": [
    "Running questions.info() should gives a lot of useful information."
   ]
  },
  {
   "cell_type": "code",
   "execution_count": 5,
   "id": "57527f66",
   "metadata": {},
   "outputs": [
    {
     "name": "stdout",
     "output_type": "stream",
     "text": [
      "<class 'pandas.core.frame.DataFrame'>\n",
      "RangeIndex: 35773 entries, 0 to 35772\n",
      "Data columns (total 7 columns):\n",
      " #   Column         Non-Null Count  Dtype         \n",
      "---  ------         --------------  -----         \n",
      " 0   Id             35773 non-null  int64         \n",
      " 1   CreationDate   35773 non-null  datetime64[ns]\n",
      " 2   Score          35773 non-null  int64         \n",
      " 3   ViewCount      35773 non-null  int64         \n",
      " 4   Tags           35773 non-null  object        \n",
      " 5   AnswerCount    35773 non-null  int64         \n",
      " 6   FavoriteCount  587 non-null    float64       \n",
      "dtypes: datetime64[ns](1), float64(1), int64(4), object(1)\n",
      "memory usage: 1.9+ MB\n"
     ]
    }
   ],
   "source": [
    "questions.info()"
   ]
  }
 ],
 "metadata": {
  "kernelspec": {
   "display_name": "Python 3 (ipykernel)",
   "language": "python",
   "name": "python3"
  },
  "language_info": {
   "codemirror_mode": {
    "name": "ipython",
    "version": 3
   },
   "file_extension": ".py",
   "mimetype": "text/x-python",
   "name": "python",
   "nbconvert_exporter": "python",
   "pygments_lexer": "ipython3",
   "version": "3.10.9"
  }
 },
 "nbformat": 4,
 "nbformat_minor": 5
}
