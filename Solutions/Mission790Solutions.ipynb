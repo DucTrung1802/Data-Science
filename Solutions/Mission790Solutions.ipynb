{
 "cells": [
  {
   "cell_type": "markdown",
   "metadata": {
    "id": "hi2CmTEDvGij"
   },
   "source": [
    "# Purpose of Notebook\n",
    "\n",
    "The purpose of this notebook is to offer an example answer to the guided project for the Sequential Models for Deep Learning course. Since the choice of model predictors is up to the student, results can differ. Use this solution as a guide for how to structure your own answer."
   ]
  },
  {
   "cell_type": "markdown",
   "metadata": {
    "id": "e65739c8"
   },
   "source": [
    "# Time-Series Forecasting on the S&P 500"
   ]
  },
  {
   "cell_type": "markdown",
   "metadata": {
    "id": "18150cb2"
   },
   "source": [
    "**Context**: We are working as traders on the S&P 500 futures desk. We have been tasked with building a model to better forecast how this index will move based on its behavior over the past several years. The better our forecast performs, the more effectively and lucratively our desk will be able to trade these futures."
   ]
  },
  {
   "cell_type": "markdown",
   "metadata": {
    "id": "2e64de5f"
   },
   "source": [
    "## Introduction"
   ]
  },
  {
   "cell_type": "markdown",
   "metadata": {
    "id": "9091a3ff"
   },
   "source": [
    "The dataset we will be working with is from [Yahoo Finance via Kaggle](https://www.kaggle.com/datasets/arashnic/time-series-forecasting-with-yahoo-stock-price), and it contains S&P 500 Index prices from 2015 through 2020.\n",
    "\n",
    "Before we get into the data, let's set some random seed values to improve the reproducibility of the models we will build later on."
   ]
  },
  {
   "cell_type": "code",
   "execution_count": 1,
   "metadata": {
    "id": "e101a4be"
   },
   "outputs": [],
   "source": [
    "# Imports\n",
    "import tensorflow as tf\n",
    "import numpy as np\n",
    "import random\n",
    "\n",
    "# Seed code\n",
    "np.random.seed(1)\n",
    "random.seed(1)\n",
    "tf.random.set_seed(1)"
   ]
  },
  {
   "cell_type": "markdown",
   "metadata": {
    "id": "240f8d2d"
   },
   "source": [
    "## Data Wrangling and Exploration"
   ]
  },
  {
   "cell_type": "markdown",
   "metadata": {
    "id": "395dc3c2"
   },
   "source": [
    "First, we will load in the data and inspect it to determine what steps will be required for cleaning and preprocessing."
   ]
  },
  {
   "cell_type": "code",
   "execution_count": 2,
   "metadata": {
    "colab": {
     "base_uri": "https://localhost:8080/",
     "height": 206
    },
    "id": "f55e074c",
    "outputId": "f2091de4-28f5-4d49-c8c8-8420aee93d51"
   },
   "outputs": [
    {
     "data": {
      "text/html": [
       "\n",
       "  <div id=\"df-722d7e90-a564-4594-9d40-63c22aae5a9c\">\n",
       "    <div class=\"colab-df-container\">\n",
       "      <div>\n",
       "<style scoped>\n",
       "    .dataframe tbody tr th:only-of-type {\n",
       "        vertical-align: middle;\n",
       "    }\n",
       "\n",
       "    .dataframe tbody tr th {\n",
       "        vertical-align: top;\n",
       "    }\n",
       "\n",
       "    .dataframe thead th {\n",
       "        text-align: right;\n",
       "    }\n",
       "</style>\n",
       "<table border=\"1\" class=\"dataframe\">\n",
       "  <thead>\n",
       "    <tr style=\"text-align: right;\">\n",
       "      <th></th>\n",
       "      <th>Date</th>\n",
       "      <th>High</th>\n",
       "      <th>Low</th>\n",
       "      <th>Open</th>\n",
       "      <th>Close</th>\n",
       "      <th>Volume</th>\n",
       "      <th>Adj Close</th>\n",
       "    </tr>\n",
       "  </thead>\n",
       "  <tbody>\n",
       "    <tr>\n",
       "      <th>0</th>\n",
       "      <td>2015-11-23</td>\n",
       "      <td>2095.610107</td>\n",
       "      <td>2081.389893</td>\n",
       "      <td>2089.409912</td>\n",
       "      <td>2086.590088</td>\n",
       "      <td>3.587980e+09</td>\n",
       "      <td>2086.590088</td>\n",
       "    </tr>\n",
       "    <tr>\n",
       "      <th>1</th>\n",
       "      <td>2015-11-24</td>\n",
       "      <td>2094.120117</td>\n",
       "      <td>2070.290039</td>\n",
       "      <td>2084.419922</td>\n",
       "      <td>2089.139893</td>\n",
       "      <td>3.884930e+09</td>\n",
       "      <td>2089.139893</td>\n",
       "    </tr>\n",
       "    <tr>\n",
       "      <th>2</th>\n",
       "      <td>2015-11-25</td>\n",
       "      <td>2093.000000</td>\n",
       "      <td>2086.300049</td>\n",
       "      <td>2089.300049</td>\n",
       "      <td>2088.870117</td>\n",
       "      <td>2.852940e+09</td>\n",
       "      <td>2088.870117</td>\n",
       "    </tr>\n",
       "    <tr>\n",
       "      <th>3</th>\n",
       "      <td>2015-11-26</td>\n",
       "      <td>2093.000000</td>\n",
       "      <td>2086.300049</td>\n",
       "      <td>2089.300049</td>\n",
       "      <td>2088.870117</td>\n",
       "      <td>2.852940e+09</td>\n",
       "      <td>2088.870117</td>\n",
       "    </tr>\n",
       "    <tr>\n",
       "      <th>4</th>\n",
       "      <td>2015-11-27</td>\n",
       "      <td>2093.290039</td>\n",
       "      <td>2084.129883</td>\n",
       "      <td>2088.820068</td>\n",
       "      <td>2090.110107</td>\n",
       "      <td>1.466840e+09</td>\n",
       "      <td>2090.110107</td>\n",
       "    </tr>\n",
       "  </tbody>\n",
       "</table>\n",
       "</div>\n",
       "      <button class=\"colab-df-convert\" onclick=\"convertToInteractive('df-722d7e90-a564-4594-9d40-63c22aae5a9c')\"\n",
       "              title=\"Convert this dataframe to an interactive table.\"\n",
       "              style=\"display:none;\">\n",
       "        \n",
       "  <svg xmlns=\"http://www.w3.org/2000/svg\" height=\"24px\"viewBox=\"0 0 24 24\"\n",
       "       width=\"24px\">\n",
       "    <path d=\"M0 0h24v24H0V0z\" fill=\"none\"/>\n",
       "    <path d=\"M18.56 5.44l.94 2.06.94-2.06 2.06-.94-2.06-.94-.94-2.06-.94 2.06-2.06.94zm-11 1L8.5 8.5l.94-2.06 2.06-.94-2.06-.94L8.5 2.5l-.94 2.06-2.06.94zm10 10l.94 2.06.94-2.06 2.06-.94-2.06-.94-.94-2.06-.94 2.06-2.06.94z\"/><path d=\"M17.41 7.96l-1.37-1.37c-.4-.4-.92-.59-1.43-.59-.52 0-1.04.2-1.43.59L10.3 9.45l-7.72 7.72c-.78.78-.78 2.05 0 2.83L4 21.41c.39.39.9.59 1.41.59.51 0 1.02-.2 1.41-.59l7.78-7.78 2.81-2.81c.8-.78.8-2.07 0-2.86zM5.41 20L4 18.59l7.72-7.72 1.47 1.35L5.41 20z\"/>\n",
       "  </svg>\n",
       "      </button>\n",
       "      \n",
       "  <style>\n",
       "    .colab-df-container {\n",
       "      display:flex;\n",
       "      flex-wrap:wrap;\n",
       "      gap: 12px;\n",
       "    }\n",
       "\n",
       "    .colab-df-convert {\n",
       "      background-color: #E8F0FE;\n",
       "      border: none;\n",
       "      border-radius: 50%;\n",
       "      cursor: pointer;\n",
       "      display: none;\n",
       "      fill: #1967D2;\n",
       "      height: 32px;\n",
       "      padding: 0 0 0 0;\n",
       "      width: 32px;\n",
       "    }\n",
       "\n",
       "    .colab-df-convert:hover {\n",
       "      background-color: #E2EBFA;\n",
       "      box-shadow: 0px 1px 2px rgba(60, 64, 67, 0.3), 0px 1px 3px 1px rgba(60, 64, 67, 0.15);\n",
       "      fill: #174EA6;\n",
       "    }\n",
       "\n",
       "    [theme=dark] .colab-df-convert {\n",
       "      background-color: #3B4455;\n",
       "      fill: #D2E3FC;\n",
       "    }\n",
       "\n",
       "    [theme=dark] .colab-df-convert:hover {\n",
       "      background-color: #434B5C;\n",
       "      box-shadow: 0px 1px 3px 1px rgba(0, 0, 0, 0.15);\n",
       "      filter: drop-shadow(0px 1px 2px rgba(0, 0, 0, 0.3));\n",
       "      fill: #FFFFFF;\n",
       "    }\n",
       "  </style>\n",
       "\n",
       "      <script>\n",
       "        const buttonEl =\n",
       "          document.querySelector('#df-722d7e90-a564-4594-9d40-63c22aae5a9c button.colab-df-convert');\n",
       "        buttonEl.style.display =\n",
       "          google.colab.kernel.accessAllowed ? 'block' : 'none';\n",
       "\n",
       "        async function convertToInteractive(key) {\n",
       "          const element = document.querySelector('#df-722d7e90-a564-4594-9d40-63c22aae5a9c');\n",
       "          const dataTable =\n",
       "            await google.colab.kernel.invokeFunction('convertToInteractive',\n",
       "                                                     [key], {});\n",
       "          if (!dataTable) return;\n",
       "\n",
       "          const docLinkHtml = 'Like what you see? Visit the ' +\n",
       "            '<a target=\"_blank\" href=https://colab.research.google.com/notebooks/data_table.ipynb>data table notebook</a>'\n",
       "            + ' to learn more about interactive tables.';\n",
       "          element.innerHTML = '';\n",
       "          dataTable['output_type'] = 'display_data';\n",
       "          await google.colab.output.renderOutput(dataTable, element);\n",
       "          const docLink = document.createElement('div');\n",
       "          docLink.innerHTML = docLinkHtml;\n",
       "          element.appendChild(docLink);\n",
       "        }\n",
       "      </script>\n",
       "    </div>\n",
       "  </div>\n",
       "  "
      ],
      "text/plain": [
       "         Date         High          Low         Open        Close  \\\n",
       "0  2015-11-23  2095.610107  2081.389893  2089.409912  2086.590088   \n",
       "1  2015-11-24  2094.120117  2070.290039  2084.419922  2089.139893   \n",
       "2  2015-11-25  2093.000000  2086.300049  2089.300049  2088.870117   \n",
       "3  2015-11-26  2093.000000  2086.300049  2089.300049  2088.870117   \n",
       "4  2015-11-27  2093.290039  2084.129883  2088.820068  2090.110107   \n",
       "\n",
       "         Volume    Adj Close  \n",
       "0  3.587980e+09  2086.590088  \n",
       "1  3.884930e+09  2089.139893  \n",
       "2  2.852940e+09  2088.870117  \n",
       "3  2.852940e+09  2088.870117  \n",
       "4  1.466840e+09  2090.110107  "
      ]
     },
     "execution_count": 2,
     "metadata": {},
     "output_type": "execute_result"
    }
   ],
   "source": [
    "# Import\n",
    "import pandas as pd\n",
    "\n",
    "# Load and inspect the data\n",
    "stock_data = pd.read_csv(\"yahoo_stock.csv\")\n",
    "stock_data.head()"
   ]
  },
  {
   "cell_type": "markdown",
   "metadata": {
    "id": "192e4514"
   },
   "source": [
    "We can see that the data contains seven columns: `Date`, `High`, `Low`, `Open`, `Close`, `Volume`, and `Adj Close`.\n",
    "\n",
    "We will want to set the index of the DataFrame to the `Date` column to prepare for time series forecasting, and decide what other column(s) to use for the forecast itself. For now, we are going to use only the `Adj Close` column, which is the closing price of the S&P 500 index, [adjusted for dividends](https://www.investopedia.com/articles/investing/091015/how-dividends-affect-stock-prices.asp). Based on this decision, we modify the DataFrame to drop the other columns.\n",
    "\n",
    "We should also ensure that the data is sorted by its `Date` column."
   ]
  },
  {
   "cell_type": "code",
   "execution_count": 3,
   "metadata": {
    "colab": {
     "base_uri": "https://localhost:8080/",
     "height": 238
    },
    "id": "d4e04bd1",
    "outputId": "d9068a8e-5a59-4934-ba1b-f036db02772e"
   },
   "outputs": [
    {
     "data": {
      "text/html": [
       "\n",
       "  <div id=\"df-6b4fc99a-ebd5-4e91-a90e-67d6fac52c68\">\n",
       "    <div class=\"colab-df-container\">\n",
       "      <div>\n",
       "<style scoped>\n",
       "    .dataframe tbody tr th:only-of-type {\n",
       "        vertical-align: middle;\n",
       "    }\n",
       "\n",
       "    .dataframe tbody tr th {\n",
       "        vertical-align: top;\n",
       "    }\n",
       "\n",
       "    .dataframe thead th {\n",
       "        text-align: right;\n",
       "    }\n",
       "</style>\n",
       "<table border=\"1\" class=\"dataframe\">\n",
       "  <thead>\n",
       "    <tr style=\"text-align: right;\">\n",
       "      <th></th>\n",
       "      <th>Adj Close</th>\n",
       "    </tr>\n",
       "    <tr>\n",
       "      <th>Date</th>\n",
       "      <th></th>\n",
       "    </tr>\n",
       "  </thead>\n",
       "  <tbody>\n",
       "    <tr>\n",
       "      <th>2015-11-23</th>\n",
       "      <td>2086.590088</td>\n",
       "    </tr>\n",
       "    <tr>\n",
       "      <th>2015-11-24</th>\n",
       "      <td>2089.139893</td>\n",
       "    </tr>\n",
       "    <tr>\n",
       "      <th>2015-11-25</th>\n",
       "      <td>2088.870117</td>\n",
       "    </tr>\n",
       "    <tr>\n",
       "      <th>2015-11-26</th>\n",
       "      <td>2088.870117</td>\n",
       "    </tr>\n",
       "    <tr>\n",
       "      <th>2015-11-27</th>\n",
       "      <td>2090.110107</td>\n",
       "    </tr>\n",
       "  </tbody>\n",
       "</table>\n",
       "</div>\n",
       "      <button class=\"colab-df-convert\" onclick=\"convertToInteractive('df-6b4fc99a-ebd5-4e91-a90e-67d6fac52c68')\"\n",
       "              title=\"Convert this dataframe to an interactive table.\"\n",
       "              style=\"display:none;\">\n",
       "        \n",
       "  <svg xmlns=\"http://www.w3.org/2000/svg\" height=\"24px\"viewBox=\"0 0 24 24\"\n",
       "       width=\"24px\">\n",
       "    <path d=\"M0 0h24v24H0V0z\" fill=\"none\"/>\n",
       "    <path d=\"M18.56 5.44l.94 2.06.94-2.06 2.06-.94-2.06-.94-.94-2.06-.94 2.06-2.06.94zm-11 1L8.5 8.5l.94-2.06 2.06-.94-2.06-.94L8.5 2.5l-.94 2.06-2.06.94zm10 10l.94 2.06.94-2.06 2.06-.94-2.06-.94-.94-2.06-.94 2.06-2.06.94z\"/><path d=\"M17.41 7.96l-1.37-1.37c-.4-.4-.92-.59-1.43-.59-.52 0-1.04.2-1.43.59L10.3 9.45l-7.72 7.72c-.78.78-.78 2.05 0 2.83L4 21.41c.39.39.9.59 1.41.59.51 0 1.02-.2 1.41-.59l7.78-7.78 2.81-2.81c.8-.78.8-2.07 0-2.86zM5.41 20L4 18.59l7.72-7.72 1.47 1.35L5.41 20z\"/>\n",
       "  </svg>\n",
       "      </button>\n",
       "      \n",
       "  <style>\n",
       "    .colab-df-container {\n",
       "      display:flex;\n",
       "      flex-wrap:wrap;\n",
       "      gap: 12px;\n",
       "    }\n",
       "\n",
       "    .colab-df-convert {\n",
       "      background-color: #E8F0FE;\n",
       "      border: none;\n",
       "      border-radius: 50%;\n",
       "      cursor: pointer;\n",
       "      display: none;\n",
       "      fill: #1967D2;\n",
       "      height: 32px;\n",
       "      padding: 0 0 0 0;\n",
       "      width: 32px;\n",
       "    }\n",
       "\n",
       "    .colab-df-convert:hover {\n",
       "      background-color: #E2EBFA;\n",
       "      box-shadow: 0px 1px 2px rgba(60, 64, 67, 0.3), 0px 1px 3px 1px rgba(60, 64, 67, 0.15);\n",
       "      fill: #174EA6;\n",
       "    }\n",
       "\n",
       "    [theme=dark] .colab-df-convert {\n",
       "      background-color: #3B4455;\n",
       "      fill: #D2E3FC;\n",
       "    }\n",
       "\n",
       "    [theme=dark] .colab-df-convert:hover {\n",
       "      background-color: #434B5C;\n",
       "      box-shadow: 0px 1px 3px 1px rgba(0, 0, 0, 0.15);\n",
       "      filter: drop-shadow(0px 1px 2px rgba(0, 0, 0, 0.3));\n",
       "      fill: #FFFFFF;\n",
       "    }\n",
       "  </style>\n",
       "\n",
       "      <script>\n",
       "        const buttonEl =\n",
       "          document.querySelector('#df-6b4fc99a-ebd5-4e91-a90e-67d6fac52c68 button.colab-df-convert');\n",
       "        buttonEl.style.display =\n",
       "          google.colab.kernel.accessAllowed ? 'block' : 'none';\n",
       "\n",
       "        async function convertToInteractive(key) {\n",
       "          const element = document.querySelector('#df-6b4fc99a-ebd5-4e91-a90e-67d6fac52c68');\n",
       "          const dataTable =\n",
       "            await google.colab.kernel.invokeFunction('convertToInteractive',\n",
       "                                                     [key], {});\n",
       "          if (!dataTable) return;\n",
       "\n",
       "          const docLinkHtml = 'Like what you see? Visit the ' +\n",
       "            '<a target=\"_blank\" href=https://colab.research.google.com/notebooks/data_table.ipynb>data table notebook</a>'\n",
       "            + ' to learn more about interactive tables.';\n",
       "          element.innerHTML = '';\n",
       "          dataTable['output_type'] = 'display_data';\n",
       "          await google.colab.output.renderOutput(dataTable, element);\n",
       "          const docLink = document.createElement('div');\n",
       "          docLink.innerHTML = docLinkHtml;\n",
       "          element.appendChild(docLink);\n",
       "        }\n",
       "      </script>\n",
       "    </div>\n",
       "  </div>\n",
       "  "
      ],
      "text/plain": [
       "              Adj Close\n",
       "Date                   \n",
       "2015-11-23  2086.590088\n",
       "2015-11-24  2089.139893\n",
       "2015-11-25  2088.870117\n",
       "2015-11-26  2088.870117\n",
       "2015-11-27  2090.110107"
      ]
     },
     "execution_count": 3,
     "metadata": {},
     "output_type": "execute_result"
    }
   ],
   "source": [
    "# Select relevant columns, sort data, and set index\n",
    "stock_data = stock_data[[\"Date\", \"Adj Close\"]]\n",
    "stock_data = stock_data.sort_values(\"Date\")\n",
    "stock_data = stock_data.set_index(\"Date\")\n",
    "\n",
    "# Inspect the data\n",
    "stock_data.head()"
   ]
  },
  {
   "cell_type": "markdown",
   "metadata": {
    "id": "c0d02adc"
   },
   "source": [
    "We should also double-check that we don't have any missing or erroneous values in our dataset, and consider forward-filling or interpolating if necessary."
   ]
  },
  {
   "cell_type": "code",
   "execution_count": 4,
   "metadata": {
    "colab": {
     "base_uri": "https://localhost:8080/"
    },
    "id": "ff57c079",
    "outputId": "199f8938-e72b-4d2a-f8fc-ddeab6256faa"
   },
   "outputs": [
    {
     "name": "stdout",
     "output_type": "stream",
     "text": [
      "Info: \n",
      "<class 'pandas.core.frame.DataFrame'>\n",
      "Index: 1825 entries, 2015-11-23 to 2020-11-20\n",
      "Data columns (total 1 columns):\n",
      " #   Column     Non-Null Count  Dtype  \n",
      "---  ------     --------------  -----  \n",
      " 0   Adj Close  1825 non-null   float64\n",
      "dtypes: float64(1)\n",
      "memory usage: 28.5+ KB\n",
      "\n",
      "Describe: \n",
      "          Adj Close\n",
      "count  1825.000000\n",
      "mean   2647.856284\n",
      "std     407.301177\n",
      "min    1829.079956\n",
      "25%    2328.949951\n",
      "50%    2683.340088\n",
      "75%    2917.520020\n",
      "max    3626.909912\n",
      "\n",
      "Skew: \n",
      " Adj Close    0.081869\n",
      "dtype: float64\n"
     ]
    }
   ],
   "source": [
    "# Check for missing or erroneous values\n",
    "print(\"Info: \")\n",
    "stock_data.info()\n",
    "print(\"\\nDescribe: \\n\", stock_data.describe())\n",
    "print(\"\\nSkew: \\n\", stock_data.skew())"
   ]
  },
  {
   "cell_type": "markdown",
   "metadata": {
    "id": "0f794226"
   },
   "source": [
    "Great! No missing values, and everything seems to be within a reasonable range. The low skew value for `Adj Close` indicates we don't have any outliers to be concerned about.\n",
    "\n",
    "Before we begin preparing the data for modeling by scaling the variable to be forecasted (`Adj Close`) and splitting the dataset for training, validation, and testing, let's quickly visualize the data."
   ]
  },
  {
   "cell_type": "code",
   "execution_count": 5,
   "metadata": {
    "colab": {
     "base_uri": "https://localhost:8080/",
     "height": 274
    },
    "id": "062d8991",
    "outputId": "e5244674-9c69-49b3-9064-e6687ec13ba7"
   },
   "outputs": [
    {
     "data": {
      "text/plain": [
       "Text(0, 0.5, 'Adjusted Close')"
      ]
     },
     "execution_count": 5,
     "metadata": {},
     "output_type": "execute_result"
    },
    {
     "data": {
      "image/png": "[encoded data removed]",
      "text/plain": [
       "<Figure size 432x288 with 1 Axes>"
      ]
     },
     "metadata": {
      "needs_background": "light"
     },
     "output_type": "display_data"
    }
   ],
   "source": [
    "# Imports\n",
    "import matplotlib.pyplot as plt\n",
    "import matplotlib.dates as mdates\n",
    "\n",
    "# Plot the data\n",
    "plt.plot(stock_data)\n",
    "\n",
    "# Add title and axis labels\n",
    "plt.title('S&P 500 Index')\n",
    "plt.xlabel('Date')\n",
    "plt.xticks(rotation=45)\n",
    "plt.gca().xaxis.set_major_locator(mdates.YearLocator())\n",
    "plt.gcf().autofmt_xdate()\n",
    "plt.ylabel('Adjusted Close')"
   ]
  },
  {
   "cell_type": "markdown",
   "metadata": {
    "id": "bdbb420b"
   },
   "source": [
    "The plot is looking great! We can see that we have data from about five years to work with. There are no gaps, and there are some visible dips and spikes.\n",
    "\n",
    "Clearly there is a pattern here (it's not just random noise), and we want to build a model that can predict that pattern. Before we can do that, we need to preprocess the data so we can build and train an RNN model. Let's move on to that data preprocessing."
   ]
  },
  {
   "cell_type": "markdown",
   "metadata": {
    "id": "743cc550"
   },
   "source": [
    "## Data Preprocessing"
   ]
  },
  {
   "cell_type": "markdown",
   "metadata": {
    "id": "8454185d"
   },
   "source": [
    "Before we can build and train an RNN model to make forecasts based on this data, we need to complete two preprocessing steps:\n",
    "- Split the data into `train`, `validation`, and `test` sets, using 50% of the data for training and 25% each for validation and testing.\n",
    "- Scale the data to between `0` and `1`, fitting the scaler to the training data and using the fitted scaler to scale all three datasets."
   ]
  },
  {
   "cell_type": "code",
   "execution_count": 6,
   "metadata": {
    "id": "007b1366"
   },
   "outputs": [],
   "source": [
    "# Import\n",
    "from sklearn.preprocessing import MinMaxScaler\n",
    "\n",
    "# Split into train, validation, and test sets\n",
    "train_size = int(len(stock_data) * 0.5)\n",
    "validation_size = int(len(stock_data) * 0.25)\n",
    "train_df = stock_data.iloc[0:train_size, :]\n",
    "validation_df = stock_data.iloc[train_size:train_size + validation_size, :]\n",
    "test_df = stock_data.iloc[train_size + validation_size:len(stock_data), :]\n",
    "\n",
    "# Fit scaler\n",
    "scaler = MinMaxScaler()\n",
    "scaler.fit(train_df)\n",
    "\n",
    "# Scale data\n",
    "train = pd.DataFrame(scaler.transform(train_df), columns=['Adj Close'], index=train_df.index)\n",
    "validation = pd.DataFrame(scaler.transform(validation_df), columns=['Adj Close'], index=validation_df.index)\n",
    "test = pd.DataFrame(scaler.transform(test_df), columns=['Adj Close'], index=test_df.index)"
   ]
  },
  {
   "cell_type": "markdown",
   "metadata": {
    "id": "0dbb236a"
   },
   "source": [
    "We will also want to shape our data into fixed-length time windows and reshape it into NumPy arrays to prepare it for TensorFlow models. We will do this in a way that is repeatable and does not overwrite our `train`, `validation`, and `test` variables so that we have the freedom to modify this window size later."
   ]
  },
  {
   "cell_type": "code",
   "execution_count": 7,
   "metadata": {
    "id": "1959002c"
   },
   "outputs": [],
   "source": [
    "# Define a helper function to construct windowed datasets\n",
    "def create_dataset(dataset, window_size=1):\n",
    "    data_x, data_y = [], []\n",
    "    for i in range(len(dataset) - window_size - 1):\n",
    "        window = dataset.iloc[i:(i + window_size), 0]\n",
    "        target = dataset.iloc[i + window_size, 0]\n",
    "        data_x.append(window)\n",
    "        data_y.append(target)\n",
    "    return np.array(data_x), np.array(data_y)\n",
    "\n",
    "# Set the desired window size\n",
    "window_size = 10\n",
    "\n",
    "# Construct train, validation, and test datasets\n",
    "X_train, y_train = create_dataset(train, window_size)\n",
    "X_validation, y_validation = create_dataset(validation, window_size)\n",
    "X_test, y_test = create_dataset(test, window_size)\n",
    "\n",
    "# Reshape into NumPy arrays\n",
    "X_train = np.reshape(X_train, (X_train.shape[0], 1, X_train.shape[1]))\n",
    "X_validation = np.reshape(X_validation, (X_validation.shape[0], 1, X_validation.shape[1]))\n",
    "X_test = np.reshape(X_test, (X_test.shape[0], 1, X_test.shape[1]))"
   ]
  },
  {
   "cell_type": "markdown",
   "metadata": {
    "id": "14a5a3de"
   },
   "source": [
    "## Build and Train a Basic RNN Model"
   ]
  },
  {
   "cell_type": "markdown",
   "metadata": {
    "id": "e230e893"
   },
   "source": [
    "Now comes the fun part! We've thoroughly prepared our data for modeling and now we need to build a TensorFlow model to make forecasts. Let's start with a `SimpleRNN` model."
   ]
  },
  {
   "cell_type": "code",
   "execution_count": 8,
   "metadata": {
    "colab": {
     "base_uri": "https://localhost:8080/"
    },
    "id": "0d9a000a",
    "outputId": "ecfd3103-8af6-49ea-c416-70fe0fbb4a37"
   },
   "outputs": [
    {
     "name": "stdout",
     "output_type": "stream",
     "text": [
      "Model: \"sequential\"\n",
      "_________________________________________________________________\n",
      " Layer (type)                Output Shape              Param #   \n",
      "=================================================================\n",
      " simple_rnn (SimpleRNN)      (None, 10)                210       \n",
      "                                                                 \n",
      " dense (Dense)               (None, 10)                110       \n",
      "                                                                 \n",
      " dense_1 (Dense)             (None, 1)                 11        \n",
      "                                                                 \n",
      "=================================================================\n",
      "Total params: 331\n",
      "Trainable params: 331\n",
      "Non-trainable params: 0\n",
      "_________________________________________________________________\n"
     ]
    }
   ],
   "source": [
    "# Imports\n",
    "from tensorflow import keras\n",
    "from tensorflow.keras import layers\n",
    "\n",
    "# Build the model\n",
    "model = tf.keras.Sequential()\n",
    "model.add(tf.keras.layers.SimpleRNN(10, input_shape=(1, window_size), activation='relu'))\n",
    "model.add(tf.keras.layers.Dense(10, activation='relu'))\n",
    "model.add(tf.keras.layers.Dense(1))\n",
    "model.compile(optimizer='adam', loss='mean_squared_error')\n",
    "model.summary()"
   ]
  },
  {
   "cell_type": "markdown",
   "metadata": {
    "id": "ca885bb7"
   },
   "source": [
    "Great! And now that we've built the model, let's train it on our training dataset and evaluate its performance using the validation dataset. Note that we are _not_ using the `test` dataset yet because we want to have a clean, untouched testing dataset for our final model evaluation. We may have skipped this step in previous lessons for simplicity, but it is a best practice to set aside an untouched testing set during the model optimization process."
   ]
  },
  {
   "cell_type": "code",
   "execution_count": 9,
   "metadata": {
    "colab": {
     "base_uri": "https://localhost:8080/"
    },
    "id": "03c24e26",
    "outputId": "7e5c6c1f-e9e5-4f7a-ddb3-a1e9c6018295"
   },
   "outputs": [
    {
     "name": "stdout",
     "output_type": "stream",
     "text": [
      "29/29 [==============================] - 2s 5ms/step - loss: 0.0775\n",
      "14/14 [==============================] - 1s 3ms/step\n",
      "-2.7877363666898582\n"
     ]
    }
   ],
   "source": [
    "# Import\n",
    "from sklearn.metrics import r2_score\n",
    "\n",
    "# Train the model\n",
    "model.fit(X_train, y_train)\n",
    "\n",
    "# Make predictions and evaluate\n",
    "y_pred = model.predict(X_validation)\n",
    "print(r2_score(y_validation, y_pred))"
   ]
  },
  {
   "cell_type": "markdown",
   "metadata": {
    "id": "475190db"
   },
   "source": [
    "Yikes! That R-Squared score is not looking very good. Let's see if we can improve upon this model."
   ]
  },
  {
   "cell_type": "markdown",
   "metadata": {
    "id": "0d2f80d5"
   },
   "source": [
    "## Build and Train an LSTM Model"
   ]
  },
  {
   "cell_type": "markdown",
   "metadata": {
    "id": "c4211a13"
   },
   "source": [
    "Let's repeat the above steps for an LSTM model and see if we can improve performance."
   ]
  },
  {
   "cell_type": "code",
   "execution_count": 10,
   "metadata": {
    "colab": {
     "base_uri": "https://localhost:8080/"
    },
    "id": "6dc34b29",
    "outputId": "cf5e5f9d-cb9f-4c33-c163-73bebc393ce8"
   },
   "outputs": [
    {
     "name": "stdout",
     "output_type": "stream",
     "text": [
      "Model: \"sequential_1\"\n",
      "_________________________________________________________________\n",
      " Layer (type)                Output Shape              Param #   \n",
      "=================================================================\n",
      " lstm (LSTM)                 (None, 10)                840       \n",
      "                                                                 \n",
      " dense_2 (Dense)             (None, 10)                110       \n",
      "                                                                 \n",
      " dense_3 (Dense)             (None, 1)                 11        \n",
      "                                                                 \n",
      "=================================================================\n",
      "Total params: 961\n",
      "Trainable params: 961\n",
      "Non-trainable params: 0\n",
      "_________________________________________________________________\n",
      "29/29 [==============================] - 3s 7ms/step - loss: 0.2656\n",
      "14/14 [==============================] - 1s 3ms/step\n",
      "-44.39475292905578\n"
     ]
    }
   ],
   "source": [
    "# Build the model\n",
    "model = tf.keras.Sequential()\n",
    "model.add(tf.keras.layers.LSTM(10, input_shape=(1, window_size), activation='relu'))\n",
    "model.add(tf.keras.layers.Dense(10, activation='relu'))\n",
    "model.add(tf.keras.layers.Dense(1))\n",
    "model.compile(optimizer='adam', loss='mean_squared_error')\n",
    "model.summary()\n",
    "\n",
    "# Train the model\n",
    "model.fit(X_train, y_train)\n",
    "\n",
    "# Make predictions and evaluate\n",
    "y_pred = model.predict(X_validation)\n",
    "print(r2_score(y_validation, y_pred))"
   ]
  },
  {
   "cell_type": "markdown",
   "metadata": {
    "id": "e82aa818"
   },
   "source": [
    "That didn't improve things like we hoped. For now, let's keep the LSTM in place until we're ready to fully optimize the model, and we can decide then whether it's worth keeping. For now, let's move onto the next section to see what other techniques we can try to improve this model."
   ]
  },
  {
   "cell_type": "markdown",
   "metadata": {
    "id": "d265d334"
   },
   "source": [
    "## Add a Convolutional Layer"
   ]
  },
  {
   "cell_type": "markdown",
   "metadata": {
    "id": "c46ad12c"
   },
   "source": [
    "Next, we are going to branch out a bit from the basic RNN or LSTM model and try adding a convolutional layer to see if this improves the model performance."
   ]
  },
  {
   "cell_type": "code",
   "execution_count": 11,
   "metadata": {
    "colab": {
     "base_uri": "https://localhost:8080/"
    },
    "id": "9afe33e8",
    "outputId": "480766cd-3378-4dde-bcff-e93662070621"
   },
   "outputs": [
    {
     "name": "stdout",
     "output_type": "stream",
     "text": [
      "Model: \"sequential_2\"\n",
      "_________________________________________________________________\n",
      " Layer (type)                Output Shape              Param #   \n",
      "=================================================================\n",
      " conv1d (Conv1D)             (None, 1, 64)             704       \n",
      "                                                                 \n",
      " max_pooling1d (MaxPooling1D  (None, 1, 64)            0         \n",
      " )                                                               \n",
      "                                                                 \n",
      " lstm_1 (LSTM)               (None, 10)                3000      \n",
      "                                                                 \n",
      " dense_4 (Dense)             (None, 10)                110       \n",
      "                                                                 \n",
      " dense_5 (Dense)             (None, 1)                 11        \n",
      "                                                                 \n",
      "=================================================================\n",
      "Total params: 3,825\n",
      "Trainable params: 3,825\n",
      "Non-trainable params: 0\n",
      "_________________________________________________________________\n",
      "29/29 [==============================] - 3s 6ms/step - loss: 0.1485\n",
      "14/14 [==============================] - 1s 5ms/step\n",
      "0.1346845828075679\n"
     ]
    }
   ],
   "source": [
    "# Build the model\n",
    "model = tf.keras.Sequential()\n",
    "model.add(tf.keras.layers.Conv1D(64, 1, activation=\"relu\", input_shape=(1, window_size)))\n",
    "model.add(tf.keras.layers.MaxPooling1D(1))\n",
    "model.add(tf.keras.layers.LSTM(10, activation='relu'))\n",
    "model.add(tf.keras.layers.Dense(10, activation='relu'))\n",
    "model.add(tf.keras.layers.Dense(1))\n",
    "model.compile(optimizer='adam', loss='mean_squared_error')\n",
    "model.summary()\n",
    "\n",
    "# Train the model\n",
    "model.fit(X_train, y_train)\n",
    "\n",
    "# Make predictions and evaluate\n",
    "y_pred = model.predict(X_validation)\n",
    "print(r2_score(y_validation, y_pred))"
   ]
  },
  {
   "cell_type": "markdown",
   "metadata": {
    "id": "7c1aed13"
   },
   "source": [
    "These are still pretty terrible results. Let's go further and try modifying other model parameters to fully optimize this model, at which point we may or may not keep the convolutional layer."
   ]
  },
  {
   "cell_type": "markdown",
   "metadata": {
    "id": "38621317"
   },
   "source": [
    "## Optimize the Model"
   ]
  },
  {
   "cell_type": "markdown",
   "metadata": {
    "id": "6475171f"
   },
   "source": [
    "Now we can go further to optimize this model by adding layers, changing the number of nodes in each layer, increasing the number of training epochs, and modifying the window size."
   ]
  },
  {
   "cell_type": "code",
   "execution_count": 12,
   "metadata": {
    "colab": {
     "base_uri": "https://localhost:8080/"
    },
    "id": "c43d8153",
    "outputId": "de7cb21f-2cef-4e2e-d0db-490251875dbc"
   },
   "outputs": [
    {
     "name": "stdout",
     "output_type": "stream",
     "text": [
      "Model: \"sequential_3\"\n",
      "_________________________________________________________________\n",
      " Layer (type)                Output Shape              Param #   \n",
      "=================================================================\n",
      " conv1d_1 (Conv1D)           (None, 1, 128)            3328      \n",
      "                                                                 \n",
      " max_pooling1d_1 (MaxPooling  (None, 1, 128)           0         \n",
      " 1D)                                                             \n",
      "                                                                 \n",
      " lstm_2 (LSTM)               (None, 64)                49408     \n",
      "                                                                 \n",
      " dense_6 (Dense)             (None, 32)                2080      \n",
      "                                                                 \n",
      " dense_7 (Dense)             (None, 16)                528       \n",
      "                                                                 \n",
      " dense_8 (Dense)             (None, 1)                 17        \n",
      "                                                                 \n",
      "=================================================================\n",
      "Total params: 55,361\n",
      "Trainable params: 55,361\n",
      "Non-trainable params: 0\n",
      "_________________________________________________________________\n",
      "Epoch 1/35\n",
      "28/28 [==============================] - 2s 5ms/step - loss: 0.0563\n",
      "Epoch 2/35\n",
      "28/28 [==============================] - 0s 4ms/step - loss: 0.0037\n",
      "Epoch 3/35\n",
      "28/28 [==============================] - 0s 4ms/step - loss: 0.0018\n",
      "Epoch 4/35\n",
      "28/28 [==============================] - 0s 3ms/step - loss: 0.0014\n",
      "Epoch 5/35\n",
      "28/28 [==============================] - 0s 4ms/step - loss: 0.0011\n",
      "Epoch 6/35\n",
      "28/28 [==============================] - 0s 4ms/step - loss: 9.4565e-04\n",
      "Epoch 7/35\n",
      "28/28 [==============================] - 0s 4ms/step - loss: 7.2098e-04\n",
      "Epoch 8/35\n",
      "28/28 [==============================] - 0s 4ms/step - loss: 5.9372e-04\n",
      "Epoch 9/35\n",
      "28/28 [==============================] - 0s 4ms/step - loss: 4.8971e-04\n",
      "Epoch 10/35\n",
      "28/28 [==============================] - 0s 3ms/step - loss: 5.1772e-04\n",
      "Epoch 11/35\n",
      "28/28 [==============================] - 0s 3ms/step - loss: 4.5120e-04\n",
      "Epoch 12/35\n",
      "28/28 [==============================] - 0s 3ms/step - loss: 4.6070e-04\n",
      "Epoch 13/35\n",
      "28/28 [==============================] - 0s 4ms/step - loss: 3.6563e-04\n",
      "Epoch 14/35\n",
      "28/28 [==============================] - 0s 3ms/step - loss: 3.6149e-04\n",
      "Epoch 15/35\n",
      "28/28 [==============================] - 0s 4ms/step - loss: 3.7301e-04\n",
      "Epoch 16/35\n",
      "28/28 [==============================] - 0s 3ms/step - loss: 4.0208e-04\n",
      "Epoch 17/35\n",
      "28/28 [==============================] - 0s 3ms/step - loss: 3.5503e-04\n",
      "Epoch 18/35\n",
      "28/28 [==============================] - 0s 5ms/step - loss: 3.4902e-04\n",
      "Epoch 19/35\n",
      "28/28 [==============================] - 0s 3ms/step - loss: 3.9261e-04\n",
      "Epoch 20/35\n",
      "28/28 [==============================] - 0s 4ms/step - loss: 4.0408e-04\n",
      "Epoch 21/35\n",
      "28/28 [==============================] - 0s 4ms/step - loss: 3.9225e-04\n",
      "Epoch 22/35\n",
      "28/28 [==============================] - 0s 3ms/step - loss: 4.0301e-04\n",
      "Epoch 23/35\n",
      "28/28 [==============================] - 0s 3ms/step - loss: 3.6759e-04\n",
      "Epoch 24/35\n",
      "28/28 [==============================] - 0s 4ms/step - loss: 4.4122e-04\n",
      "Epoch 25/35\n",
      "28/28 [==============================] - 0s 3ms/step - loss: 3.9261e-04\n",
      "Epoch 26/35\n",
      "28/28 [==============================] - 0s 3ms/step - loss: 3.0763e-04\n",
      "Epoch 27/35\n",
      "28/28 [==============================] - 0s 4ms/step - loss: 3.1373e-04\n",
      "Epoch 28/35\n",
      "28/28 [==============================] - 0s 3ms/step - loss: 3.0350e-04\n",
      "Epoch 29/35\n",
      "28/28 [==============================] - 0s 5ms/step - loss: 3.0890e-04\n",
      "Epoch 30/35\n",
      "28/28 [==============================] - 0s 3ms/step - loss: 3.5386e-04\n",
      "Epoch 31/35\n",
      "28/28 [==============================] - 0s 3ms/step - loss: 3.1993e-04\n",
      "Epoch 32/35\n",
      "28/28 [==============================] - 0s 3ms/step - loss: 2.7276e-04\n",
      "Epoch 33/35\n",
      "28/28 [==============================] - 0s 4ms/step - loss: 3.3147e-04\n",
      "Epoch 34/35\n",
      "28/28 [==============================] - 0s 3ms/step - loss: 3.2994e-04\n",
      "Epoch 35/35\n",
      "28/28 [==============================] - 0s 3ms/step - loss: 3.5087e-04\n",
      "14/14 [==============================] - 1s 2ms/step\n",
      "0.941325545898109\n"
     ]
    }
   ],
   "source": [
    "# Set the desired window size\n",
    "window_size = 25\n",
    "\n",
    "# Construct train, validation, and test datasets\n",
    "X_train, y_train = create_dataset(train, window_size)\n",
    "X_validation, y_validation = create_dataset(validation, window_size)\n",
    "X_test, y_test = create_dataset(test, window_size)\n",
    "\n",
    "# Reshape into NumPy arrays\n",
    "X_train = np.reshape(X_train, (X_train.shape[0], 1, X_train.shape[1]))\n",
    "X_validation = np.reshape(X_validation, (X_validation.shape[0], 1, X_validation.shape[1]))\n",
    "X_test = np.reshape(X_test, (X_test.shape[0], 1, X_test.shape[1]))\n",
    "\n",
    "# Build the model\n",
    "model = tf.keras.Sequential()\n",
    "model.add(tf.keras.layers.Conv1D(128, 1, activation=\"relu\", input_shape=(1, window_size)))\n",
    "model.add(tf.keras.layers.MaxPooling1D(1))\n",
    "model.add(tf.keras.layers.LSTM(64, activation='relu'))\n",
    "model.add(tf.keras.layers.Dense(32, activation='relu'))\n",
    "model.add(tf.keras.layers.Dense(16, activation='relu'))\n",
    "model.add(tf.keras.layers.Dense(1))\n",
    "model.compile(optimizer='adam', loss='mean_squared_error')\n",
    "model.summary()\n",
    "\n",
    "# Train the model\n",
    "model.fit(X_train, y_train, epochs=35)\n",
    "\n",
    "# Make predictions and evaluate\n",
    "y_pred = model.predict(X_validation)\n",
    "print(r2_score(y_validation, y_pred))"
   ]
  },
  {
   "cell_type": "markdown",
   "metadata": {
    "id": "3e6c545a"
   },
   "source": [
    "Overall, this is starting to look really good! We are achieving an R-Squared value between `0.90` and `0.95` on the validation set, which is impressive. As a final performance check, we should now compute and visualize the performance on the testing set."
   ]
  },
  {
   "cell_type": "markdown",
   "metadata": {
    "id": "9802018a"
   },
   "source": [
    "## Evaluate Model Performance"
   ]
  },
  {
   "cell_type": "markdown",
   "metadata": {
    "id": "a83ac44f"
   },
   "source": [
    "Finally! We've settled on a model that we can be satisfied with, so let's use this model to make predictions on the testing set and compute our final R-Squared. While we're at it, since we'll need them for plotting, let's make predictions on all three sets: training, validation, and testing."
   ]
  },
  {
   "cell_type": "code",
   "execution_count": 19,
   "metadata": {
    "colab": {
     "base_uri": "https://localhost:8080/"
    },
    "id": "dcdc7f91",
    "outputId": "59646323-152d-4165-b8d7-114aedfaa0db"
   },
   "outputs": [
    {
     "name": "stdout",
     "output_type": "stream",
     "text": [
      "28/28 [==============================] - 0s 2ms/step\n",
      "14/14 [==============================] - 0s 2ms/step\n",
      "14/14 [==============================] - 0s 3ms/step\n",
      "0.9947958915297632  --> Training Set\n",
      "0.941325545898109   --> Validation Set\n",
      "0.9421163908433968  --> Test Set\n"
     ]
    }
   ],
   "source": [
    "# Make predictions on all three sets\n",
    "train_pred = model.predict(X_train)\n",
    "validation_pred = model.predict(X_validation)\n",
    "test_pred = model.predict(X_test)\n",
    "\n",
    "print(r2_score(y_train, train_pred), \" --> Training Set\")\n",
    "print(r2_score(y_validation, validation_pred), \"  --> Validation Set\")\n",
    "print(r2_score(y_test, test_pred), \" --> Test Set\")"
   ]
  },
  {
   "cell_type": "markdown",
   "metadata": {
    "id": "c1562f53"
   },
   "source": [
    "Excellent! The R-Squared value from validation seems to have held up in testing, which is a great sign. Now it's time to visualize this performance. First, we'll need to undo the scaling and windowing preprocessing we've done."
   ]
  },
  {
   "cell_type": "code",
   "execution_count": 14,
   "metadata": {
    "id": "b97cd8f1"
   },
   "outputs": [],
   "source": [
    "# Un-scale the predictions\n",
    "train_pred = scaler.inverse_transform(train_pred)\n",
    "validation_pred = scaler.inverse_transform(validation_pred)\n",
    "test_pred = scaler.inverse_transform(test_pred)\n",
    "\n",
    "# Un-window the training predictions\n",
    "plot_train_pred = np.empty((len(stock_data), 1))\n",
    "plot_train_pred[:] = np.nan\n",
    "plot_train_pred[window_size:len(train_pred) + window_size, :] = train_pred\n",
    "\n",
    "# Un-window the validation predictions\n",
    "plot_validation_pred = np.empty((len(stock_data), 1))\n",
    "plot_validation_pred[:] = np.nan\n",
    "plot_validation_pred[len(train_pred) + (window_size * 2) + 1:len(train_pred) + len(validation_pred) + (window_size * 2) + 1, :] = validation_pred\n",
    "\n",
    "# Un-window the test predictions\n",
    "plot_test_pred = np.empty((len(stock_data), 1))\n",
    "plot_test_pred[:] = np.nan\n",
    "plot_test_pred[len(train_pred) + len(validation_pred) + (window_size * 3) + 2:len(stock_data) - 1, :] = test_pred"
   ]
  },
  {
   "cell_type": "markdown",
   "metadata": {
    "id": "0eaebce1"
   },
   "source": [
    "Finally, let's plot the un-scaled and un-windowed data on top of the original `stock_data` dataset."
   ]
  },
  {
   "cell_type": "code",
   "execution_count": 15,
   "metadata": {
    "colab": {
     "base_uri": "https://localhost:8080/",
     "height": 257
    },
    "id": "b3667f57",
    "outputId": "f98e4bca-5a8b-4bb9-85c3-4fea7a1235b3"
   },
   "outputs": [
    {
     "data": {
      "image/png": "[encoded data removed]",
      "text/plain": [
       "<Figure size 432x288 with 1 Axes>"
      ]
     },
     "metadata": {
      "needs_background": "light"
     },
     "output_type": "display_data"
    }
   ],
   "source": [
    "# Plot the original data\n",
    "plt.plot(stock_data, label=\"Original Data\")\n",
    "\n",
    "# Plot the predictions\n",
    "plt.plot(plot_train_pred, label=\"Training Set Predictions\")\n",
    "plt.plot(plot_validation_pred, label=\"Validation Set Predictions\")\n",
    "plt.plot(plot_test_pred, label=\"Test Set Predictions\")\n",
    "\n",
    "# Add title, axis labels, and a legend\n",
    "plt.title('S&P 500 Index Forecast')\n",
    "plt.xlabel('Date')\n",
    "plt.xticks(rotation=45)\n",
    "plt.gca().xaxis.set_major_locator(mdates.YearLocator())\n",
    "plt.gcf().autofmt_xdate()\n",
    "plt.ylabel('Adjusted Close')\n",
    "plt.legend()\n",
    "plt.show()"
   ]
  },
  {
   "cell_type": "markdown",
   "metadata": {
    "id": "32ce7009"
   },
   "source": [
    "The visualization looks as great as the R-Squared suggested it might. The real test, of course, would be to make some predictions for the future and do some trades (or pretend to do some trades — \"paper trading\" as we call it), then see if we can make any money. Investment advice is way outside the scope of this course, and the stock market has a way of being a \"harsh teacher,\" so please be cautious and remember that this project was only meant to be fun and educational! If successfully predicting the market trends was \"this easy,\" everyone would do it."
   ]
  }
 ],
 "metadata": {
  "colab": {
   "provenance": []
  },
  "kernelspec": {
   "display_name": "Python 3",
   "language": "python",
   "name": "python3"
  },
  "language_info": {
   "codemirror_mode": {
    "name": "ipython",
    "version": 3
   },
   "file_extension": ".py",
   "mimetype": "text/x-python",
   "name": "python",
   "nbconvert_exporter": "python",
   "pygments_lexer": "ipython3",
   "version": "3.8.5"
  }
 },
 "nbformat": 4,
 "nbformat_minor": 5
}
