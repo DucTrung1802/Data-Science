{
 "cells": [
  {
   "cell_type": "code",
   "execution_count": 7,
   "metadata": {},
   "outputs": [],
   "source": [
    "def explore_data(dataset, start, end, rows_and_columns=False):\n",
    "    dataset_slice = dataset[start:end]\n",
    "    for row in dataset_slice:\n",
    "        print(row)\n",
    "        print(\"\\n\")\n",
    "\n",
    "    if rows_and_columns:\n",
    "        print(\"Number of rows:\", len(dataset))\n",
    "        print(\"Number of column:\", len(dataset[0]))"
   ]
  },
  {
   "cell_type": "code",
   "execution_count": 78,
   "metadata": {},
   "outputs": [],
   "source": [
    "from csv import reader\n",
    "\n",
    "# The Google Play data set\n",
    "opened_file = open(\"googleplaystore.csv\", encoding=\"utf-8\")\n",
    "read_file = reader(opened_file)\n",
    "android = list(read_file)\n",
    "android_header = android[0]\n",
    "android = android[1:]\n",
    "\n",
    "# The App Store data set\n",
    "opened_file = open(\"AppleStore.csv\", encoding=\"utf-8\")\n",
    "read_file = reader(opened_file)\n",
    "ios = list(read_file)\n",
    "ios_header = ios[0]\n",
    "ios = ios[1:]"
   ]
  },
  {
   "cell_type": "code",
   "execution_count": 9,
   "metadata": {},
   "outputs": [
    {
     "name": "stdout",
     "output_type": "stream",
     "text": [
      "['id', 'track_name', 'size_bytes', 'currency', 'price', 'rating_count_tot', 'rating_count_ver', 'user_rating', 'user_rating_ver', 'ver', 'cont_rating', 'prime_genre', 'sup_devices.num', 'ipadSc_urls.num', 'lang.num', 'vpp_lic']\n"
     ]
    }
   ],
   "source": [
    "print(ios_header)"
   ]
  },
  {
   "cell_type": "code",
   "execution_count": 10,
   "metadata": {},
   "outputs": [
    {
     "name": "stdout",
     "output_type": "stream",
     "text": [
      "['284882215', 'Facebook', '389879808', 'USD', '0.0', '2974676', '212', '3.5', '3.5', '95.0', '4+', 'Social Networking', '37', '1', '29', '1']\n",
      "\n",
      "\n",
      "['389801252', 'Instagram', '113954816', 'USD', '0.0', '2161558', '1289', '4.5', '4.0', '10.23', '12+', 'Photo & Video', '37', '0', '29', '1']\n",
      "\n",
      "\n",
      "['529479190', 'Clash of Clans', '116476928', 'USD', '0.0', '2130805', '579', '4.5', '4.5', '9.24.12', '9+', 'Games', '38', '5', '18', '1']\n",
      "\n",
      "\n",
      "['420009108', 'Temple Run', '65921024', 'USD', '0.0', '1724546', '3842', '4.5', '4.0', '1.6.2', '9+', 'Games', '40', '5', '1', '1']\n",
      "\n",
      "\n",
      "['284035177', 'Pandora - Music & Radio', '130242560', 'USD', '0.0', '1126879', '3594', '4.0', '4.5', '8.4.1', '12+', 'Music', '37', '4', '1', '1']\n",
      "\n",
      "\n",
      "Number of rows: 7197\n",
      "Number of column: 16\n"
     ]
    }
   ],
   "source": [
    "explore_data(ios, 0, 5, True)"
   ]
  },
  {
   "cell_type": "code",
   "execution_count": 11,
   "metadata": {},
   "outputs": [],
   "source": [
    "import math"
   ]
  },
  {
   "cell_type": "code",
   "execution_count": 95,
   "metadata": {},
   "outputs": [],
   "source": [
    "def check_duplicate_data(dataset, pos):\n",
    "    number_of_duplicated_element = 0\n",
    "    duplicate_dictionary = {}\n",
    "    for data in dataset:\n",
    "        if not data[pos] in duplicate_dictionary:\n",
    "            duplicate_dictionary[data[pos]] = 1\n",
    "        else:\n",
    "            duplicate_dictionary[data[pos]] += 1\n",
    "            if duplicate_dictionary[data[pos]] == 2:\n",
    "                number_of_duplicated_element += 1\n",
    "    return (duplicate_dictionary, number_of_duplicated_element)\n"
   ]
  },
  {
   "cell_type": "code",
   "execution_count": 43,
   "metadata": {},
   "outputs": [],
   "source": [
    "def filter_duplicate_data(dataset, pos_of_unique):\n",
    "    unique_data_set = set()\n",
    "    index = 0\n",
    "    while index < len(dataset):\n",
    "        if not dataset[index][pos_of_unique] in unique_data_set:\n",
    "            unique_data_set.add(dataset[index][pos_of_unique])\n",
    "            index += 1\n",
    "        else:\n",
    "            dataset.remove(dataset[index])\n",
    "    return dataset"
   ]
  },
  {
   "cell_type": "code",
   "execution_count": 98,
   "metadata": {},
   "outputs": [
    {
     "name": "stdout",
     "output_type": "stream",
     "text": [
      "798\n"
     ]
    }
   ],
   "source": [
    "# test_data = [[1, 1], [2, 1], [3, 1], [4, 1], [4,2], [4,2]]\n",
    "# filtered_data = filter_duplicate_data(android, 0)\n",
    "duplicate_result = check_duplicate_data(android, 0)\n",
    "print(duplicate_result[1])\n",
    "# Correct duplicated apps: 798"
   ]
  },
  {
   "cell_type": "code",
   "execution_count": 92,
   "metadata": {},
   "outputs": [
    {
     "name": "stdout",
     "output_type": "stream",
     "text": [
      "The original list is : ['Gfg', 'Good| ????', 'for', '??Geeks???']\n",
      "The extracted list : ['Gfg', 'Good| ????', 'for', '??Geeks???']\n"
     ]
    }
   ],
   "source": [
    "# Python3 code to demonstrate working of\n",
    "# Remove Non-English characters Strings from List\n",
    "# Using regex + search() + filter() + lambda\n",
    "import re\n",
    "\n",
    "# initializing list\n",
    "test_list = ['Gfg', 'Good| ????', \"for\", '??Geeks???']\n",
    "\n",
    "# printing original list\n",
    "print(\"The original list is : \" + str(test_list))\n",
    "\n",
    "# using search() to get only those strings with alphabets\n",
    "res = list(filter(lambda ele: re.search(\"[a-zA-Z\\s]+\", ele) is not None, test_list))\n",
    "\n",
    "# printing result\n",
    "print(\"The extracted list : \" + str(res))\n"
   ]
  }
 ],
 "metadata": {
  "kernelspec": {
   "display_name": "Python 3.10.6 64-bit (windows store)",
   "language": "python",
   "name": "python3"
  },
  "language_info": {
   "codemirror_mode": {
    "name": "ipython",
    "version": 3
   },
   "file_extension": ".py",
   "mimetype": "text/x-python",
   "name": "python",
   "nbconvert_exporter": "python",
   "pygments_lexer": "ipython3",
   "version": "3.10.6"
  },
  "orig_nbformat": 4,
  "vscode": {
   "interpreter": {
    "hash": "1b46271d2f8dbbd1829190d29cd5258f5377e9dd9c2bf1ebd76d58b22d256a99"
   }
  }
 },
 "nbformat": 4,
 "nbformat_minor": 2
}
