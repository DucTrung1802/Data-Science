{
 "cells": [
  {
   "cell_type": "code",
   "execution_count": 4,
   "metadata": {},
   "outputs": [],
   "source": [
    "def explore_data(dataset, start, end, rows_and_columns=False):\n",
    "    dataset_slice = dataset[start:end]\n",
    "    for row in dataset_slice:\n",
    "        print(row)\n",
    "        print(\"\\n\")\n",
    "\n",
    "    if rows_and_columns:\n",
    "        print(\"Number of rows:\", len(dataset))\n",
    "        print(\"Number of column:\", len(dataset[0]))"
   ]
  },
  {
   "cell_type": "code",
   "execution_count": 5,
   "metadata": {},
   "outputs": [],
   "source": [
    "from csv import reader\n",
    "\n",
    "# The Google Play data set\n",
    "opened_file = open(\"googleplaystore.csv\", encoding=\"utf-8\")\n",
    "read_file = reader(opened_file)\n",
    "android = list(read_file)\n",
    "android_header = android[0]\n",
    "android = android[1:]\n",
    "\n",
    "# The App Store data set\n",
    "opened_file = open(\"AppleStore.csv\", encoding=\"utf-8\")\n",
    "read_file = reader(opened_file)\n",
    "ios = list(read_file)\n",
    "ios_header = ios[0]\n",
    "ios = ios[1:]"
   ]
  },
  {
   "cell_type": "code",
   "execution_count": 6,
   "metadata": {},
   "outputs": [
    {
     "name": "stdout",
     "output_type": "stream",
     "text": [
      "['id', 'track_name', 'size_bytes', 'currency', 'price', 'rating_count_tot', 'rating_count_ver', 'user_rating', 'user_rating_ver', 'ver', 'cont_rating', 'prime_genre', 'sup_devices.num', 'ipadSc_urls.num', 'lang.num', 'vpp_lic']\n"
     ]
    }
   ],
   "source": [
    "print(ios_header)"
   ]
  },
  {
   "cell_type": "code",
   "execution_count": 7,
   "metadata": {},
   "outputs": [
    {
     "name": "stdout",
     "output_type": "stream",
     "text": [
      "['284882215', 'Facebook', '389879808', 'USD', '0.0', '2974676', '212', '3.5', '3.5', '95.0', '4+', 'Social Networking', '37', '1', '29', '1']\n",
      "\n",
      "\n",
      "['389801252', 'Instagram', '113954816', 'USD', '0.0', '2161558', '1289', '4.5', '4.0', '10.23', '12+', 'Photo & Video', '37', '0', '29', '1']\n",
      "\n",
      "\n",
      "['529479190', 'Clash of Clans', '116476928', 'USD', '0.0', '2130805', '579', '4.5', '4.5', '9.24.12', '9+', 'Games', '38', '5', '18', '1']\n",
      "\n",
      "\n",
      "['420009108', 'Temple Run', '65921024', 'USD', '0.0', '1724546', '3842', '4.5', '4.0', '1.6.2', '9+', 'Games', '40', '5', '1', '1']\n",
      "\n",
      "\n",
      "['284035177', 'Pandora - Music & Radio', '130242560', 'USD', '0.0', '1126879', '3594', '4.0', '4.5', '8.4.1', '12+', 'Music', '37', '4', '1', '1']\n",
      "\n",
      "\n",
      "Number of rows: 7197\n",
      "Number of column: 16\n"
     ]
    }
   ],
   "source": [
    "explore_data(ios, 0, 5, True)"
   ]
  },
  {
   "cell_type": "code",
   "execution_count": 8,
   "metadata": {},
   "outputs": [],
   "source": [
    "import math"
   ]
  },
  {
   "cell_type": "code",
   "execution_count": 9,
   "metadata": {},
   "outputs": [],
   "source": [
    "def check_duplicate_data(dataset, pos):\n",
    "    number_of_duplicate_element = 0\n",
    "    duplicate_dictionary = {}\n",
    "    for data in dataset:\n",
    "        if not data[pos] in duplicate_dictionary:\n",
    "            duplicate_dictionary[data[pos]] = 1\n",
    "        else:\n",
    "            duplicate_dictionary[data[pos]] += 1\n",
    "            if duplicate_dictionary[data[pos]] == 2:\n",
    "                number_of_duplicate_element += 1\n",
    "    return (duplicate_dictionary, number_of_duplicate_element)\n"
   ]
  },
  {
   "cell_type": "code",
   "execution_count": 10,
   "metadata": {},
   "outputs": [],
   "source": [
    "def filter_duplicate_data(dataset, header_unique_data_pos):\n",
    "    buffer_dataset = dataset.copy()\n",
    "    unique_data_set = set()\n",
    "    index = 0\n",
    "    while index < len(buffer_dataset):\n",
    "        if not buffer_dataset[index][header_unique_data_pos] in unique_data_set:\n",
    "            unique_data_set.add(buffer_dataset[index][header_unique_data_pos])\n",
    "            index += 1\n",
    "        else:\n",
    "            buffer_dataset.remove(buffer_dataset[index])\n",
    "    return buffer_dataset"
   ]
  },
  {
   "cell_type": "code",
   "execution_count": 11,
   "metadata": {},
   "outputs": [
    {
     "name": "stdout",
     "output_type": "stream",
     "text": [
      "798\n"
     ]
    }
   ],
   "source": [
    "# test_data = [[1, 1], [2, 1], [3, 1], [4, 1], [4,2], [4,2]]\n",
    "# filtered_data = filter_duplicate_data(android, 0)\n",
    "duplicate_result = check_duplicate_data(android, 0)\n",
    "print(duplicate_result[1])\n",
    "# Correct duplicate apps: 798"
   ]
  },
  {
   "cell_type": "code",
   "execution_count": 22,
   "metadata": {},
   "outputs": [],
   "source": [
    "def get_highest_feature(dataset, data_as_key_pos, data_as_value_pos):\n",
    "    new_dataset = dict()\n",
    "    for data in dataset:\n",
    "        if not data[data_as_key_pos] in new_dataset.keys():\n",
    "            new_dataset[data[data_as_key_pos]] = data[data_as_value_pos]\n",
    "        else:\n",
    "            if data[data_as_value_pos] > new_dataset[data[data_as_key_pos]]:\n",
    "                new_dataset[data[data_as_key_pos]] = data[data_as_value_pos]\n",
    "    new_dataset = list(map(list,new_dataset.items()))\n",
    "    return new_dataset"
   ]
  },
  {
   "cell_type": "code",
   "execution_count": 28,
   "metadata": {},
   "outputs": [],
   "source": [
    "import csv\n",
    "def create_new_csv_dataset(name_of_csv_file, dataset, dataset_header):\n",
    "    with open(name_of_csv_file + \".csv\", \"w\", encoding=\"UTF8\", newline='') as file:\n",
    "        writer = csv.writer(file)\n",
    "        writer.writerow(dataset_header)\n",
    "        writer.writerows(dataset)"
   ]
  },
  {
   "cell_type": "code",
   "execution_count": 30,
   "metadata": {},
   "outputs": [],
   "source": [
    "highest_review_dataset = get_highest_feature(android, 0, 3)\n",
    "create_new_csv_dataset(\"test\", highest_review_dataset, [android_header[0], android_header[3]])"
   ]
  },
  {
   "cell_type": "code",
   "execution_count": 16,
   "metadata": {},
   "outputs": [
    {
     "name": "stdout",
     "output_type": "stream",
     "text": [
      "['App', 'Category', 'Rating', 'Reviews', 'Size', 'Installs', 'Type', 'Price', 'Content Rating', 'Genres', 'Last Updated', 'Current Ver', 'Android Ver']\n"
     ]
    }
   ],
   "source": [
    "print(android_header)"
   ]
  },
  {
   "cell_type": "code",
   "execution_count": 56,
   "metadata": {},
   "outputs": [],
   "source": [
    "def is_english(string):\n",
    "    for char in string:\n",
    "        if ord(char) > 127:\n",
    "            return False\n",
    "    return True"
   ]
  },
  {
   "cell_type": "code",
   "execution_count": 68,
   "metadata": {},
   "outputs": [],
   "source": [
    "def filter_english_title(dataset, header_data_pos):\n",
    "    buffer_dataset = dataset.copy()\n",
    "    index = 0\n",
    "    while index < len(buffer_dataset):\n",
    "        if not is_english(buffer_dataset[index][header_data_pos]):\n",
    "            buffer_dataset.pop(index)\n",
    "        else:\n",
    "            index += 1\n",
    "    return buffer_dataset"
   ]
  },
  {
   "cell_type": "code",
   "execution_count": 83,
   "metadata": {},
   "outputs": [],
   "source": [
    "def isfloat(num):\n",
    "    try:\n",
    "        float(num)\n",
    "        return True\n",
    "    except ValueError:\n",
    "        return False"
   ]
  },
  {
   "cell_type": "code",
   "execution_count": 90,
   "metadata": {},
   "outputs": [],
   "source": [
    "def filter_free_app(dataset, header_price_pos):\n",
    "    buffer_dataset = dataset.copy()\n",
    "    index = 0\n",
    "    while index < len(buffer_dataset):\n",
    "        if isfloat(buffer_dataset[index][header_price_pos]):\n",
    "            if float(buffer_dataset[index][header_price_pos]) > 0:\n",
    "                buffer_dataset.pop(index)\n",
    "            else:\n",
    "                index += 1\n",
    "        else:\n",
    "            buffer_dataset.pop(index)\n",
    "            \n",
    "    return buffer_dataset\n"
   ]
  },
  {
   "cell_type": "code",
   "execution_count": 104,
   "metadata": {},
   "outputs": [],
   "source": [
    "def get_freq_dataset(dataset, header_data_pos):\n",
    "    table = {}\n",
    "    total = 0\n",
    "    for data in dataset:\n",
    "        total += 1\n",
    "        if data[header_data_pos] in table:\n",
    "            table[data[header_data_pos]] += 1\n",
    "        else:\n",
    "            table[data[header_data_pos]] = 1\n",
    "    \n",
    "    percentages_table = {}\n",
    "    for element in table:\n",
    "        percent = table[element] / total * 100.0\n",
    "        percentages_table[element] = percent\n",
    "    new_dataset = list(map(list,percentages_table.items()))\n",
    "    return new_dataset"
   ]
  },
  {
   "cell_type": "code",
   "execution_count": 105,
   "metadata": {},
   "outputs": [
    {
     "name": "stdout",
     "output_type": "stream",
     "text": [
      "10841\n",
      "[['ART_AND_DESIGN', 0.701879609802522], ['AUTO_AND_VEHICLES', 0.939804901261004], ['BEAUTY', 0.6305020223649773], ['BOOKS_AND_REFERENCE', 2.1889126814180346], ['BUSINESS', 4.710920770877944], ['COMICS', 0.5710206995003569], ['COMMUNICATION', 3.2238876992624315], ['DATING', 1.8320247442303115], ['EDUCATION', 1.2729003093028788], ['ENTERTAINMENT', 1.1063526052819415], ['EVENTS', 0.7137758743754461], ['FINANCE', 3.735427075898168], ['FOOD_AND_DRINK', 1.2015227218653344], ['HEALTH_AND_FITNESS', 3.1287175826790388], ['HOUSE_AND_HOME', 0.820842255531763], ['LIBRARIES_AND_DEMO', 0.9041161075422317], ['LIFESTYLE', 3.890078515346181], ['GAME', 9.74304068522484], ['FAMILY', 18.379728765167737], ['MEDICAL', 3.628360694741851], ['SOCIAL', 2.664763264334999], ['SHOPPING', 2.2483940042826553], ['PHOTOGRAPHY', 3.009754936949798], ['SPORTS', 3.259576492981204], ['TRAVEL_AND_LOCAL', 2.3078753271472756], ['TOOLS', 8.553414227932429], ['PERSONALIZATION', 3.3071615512729005], ['PRODUCTIVITY', 3.97335236735665], ['PARENTING', 0.6542945515108256], ['WEATHER', 0.7970497263859148], ['VIDEO_PLAYERS', 1.7487508922198431], ['NEWS_AND_MAGAZINES', 2.7956221746371637], ['MAPS_AND_NAVIGATION', 1.3561741613133478]]\n"
     ]
    }
   ],
   "source": [
    "print(len(android))\n",
    "filtered_data = filter_english_title(android, 0)\n",
    "filtered_data = filter_duplicate_data(filtered_data, 0)\n",
    "filtered_data = filter_free_app(filtered_data, 7)\n",
    "most_common_by_category = get_freq_dataset(filtered_data, 1)\n",
    "# print(len(filtered_data))\n",
    "print(most_common_by_category)"
   ]
  },
  {
   "cell_type": "code",
   "execution_count": null,
   "metadata": {},
   "outputs": [],
   "source": []
  },
  {
   "cell_type": "code",
   "execution_count": 108,
   "metadata": {},
   "outputs": [],
   "source": [
    "create_new_csv_dataset(\"most_common_by_category\", most_common_by_category, [android_header[0], android_header[1]])"
   ]
  }
 ],
 "metadata": {
  "kernelspec": {
   "display_name": "Python 3.10.6 64-bit (windows store)",
   "language": "python",
   "name": "python3"
  },
  "language_info": {
   "codemirror_mode": {
    "name": "ipython",
    "version": 3
   },
   "file_extension": ".py",
   "mimetype": "text/x-python",
   "name": "python",
   "nbconvert_exporter": "python",
   "pygments_lexer": "ipython3",
   "version": "3.10.6"
  },
  "orig_nbformat": 4,
  "vscode": {
   "interpreter": {
    "hash": "1b46271d2f8dbbd1829190d29cd5258f5377e9dd9c2bf1ebd76d58b22d256a99"
   }
  }
 },
 "nbformat": 4,
 "nbformat_minor": 2
}
